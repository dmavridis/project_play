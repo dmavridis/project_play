{
 "cells": [
  {
   "cell_type": "markdown",
   "metadata": {},
   "source": [
    "#Project 4: PID control \n",
    "\n",
    "##Introduction\n",
    "There are two versions of the code that I would like to submit. \n",
    "\n",
    "In order to compile a file, the easiest way is to rename the `main_x.cpp` file to `main.cpp`\n",
    "\n",
    "##Impementation Details\n",
    "The first one, implemented in the file `main_1.cpp` is a straightforward approach  where the PID control is implemented and the throttle is constant. The main challenge in this case is the identification of the right coefficients. I applied the values for $K_p,K_i,K_d$ from the lectures and it is working reasonably well.\n",
    "\n",
    "Next step is to add twiddle. That task was more challenging. The initial approach in this case, was to apply the twiddle algorithm of reading the error and updating the coefficients. However, as there can be total of three readings involved, the simulator was getting overloaded and there were robustness issues and the code would get quite complicated. \n",
    "\n",
    "The implemented code is using global variables to allow a better flow of the programm. The variables meas1 and meas2 are checking whether the first or the second measurement of the twiddle algorithm are executed.\n",
    "\n",
    "The result is giving coefficients that are converging to similar values of the first approach, based on the lectures. However, experimenting with the initial conditions, it was proven that the coefficient final values are highly dependent on initial conditions and instability can occur. To add an extra safety, the twiddle part of the code is execured when the speed is above a specific value. Otherwise the error at very low speeds can be low causing the coefficients to have very different values. \n",
    "\n",
    "For the speed, a simple control mechanism that is adjusting the speed according to the total error and the steering value is implemented. \n",
    "The parameters are chosen after several sets of experimentation. \n",
    "\n",
    "##Effect of individual components\n",
    "By tweaking the code, the individual components of the PID control can be disabled and the corresponding effect can be observed. \n",
    "\n",
    "Starting with P control only, the car is actually failing to stay on track as it is hard to correct. \n",
    "\n",
    "** add youTube videos**\n"
   ]
  },
  {
   "cell_type": "code",
   "execution_count": null,
   "metadata": {
    "collapsed": true
   },
   "outputs": [],
   "source": []
  }
 ],
 "metadata": {
  "anaconda-cloud": {},
  "kernelspec": {
   "display_name": "Python [conda root]",
   "language": "python",
   "name": "conda-root-py"
  },
  "language_info": {
   "codemirror_mode": {
    "name": "ipython",
    "version": 3
   },
   "file_extension": ".py",
   "mimetype": "text/x-python",
   "name": "python",
   "nbconvert_exporter": "python",
   "pygments_lexer": "ipython3",
   "version": "3.5.2"
  }
 },
 "nbformat": 4,
 "nbformat_minor": 1
}
